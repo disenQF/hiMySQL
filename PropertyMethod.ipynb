{
 "cells": [
  {
   "cell_type": "code",
   "execution_count": 1,
   "metadata": {
    "collapsed": true
   },
   "outputs": [],
   "source": [
    "class Order():\n",
    "    state_types = ((0,'待支付'), (1,'正在支付'),(2, '已支付') )\n",
    "    \n",
    "    def __init__(self,no,state):\n",
    "        self.no = no  # 订单号\n",
    "        self.state=state  # 状态编号 ，如0\n",
    "    \n",
    "    @property\n",
    "    def stateName(self):\n",
    "        return self.state_types[self.state][1]\n",
    "    "
   ]
  },
  {
   "cell_type": "code",
   "execution_count": 2,
   "metadata": {},
   "outputs": [
    {
     "name": "stdout",
     "output_type": "stream",
     "text": [
      "101 正在支付\n",
      "-----------\n",
      "102 待支付\n"
     ]
    }
   ],
   "source": [
    "o1 = Order(101, 1)\n",
    "o2 = Order(102, 0)\n",
    "print(o1.no, o1.stateName)\n",
    "print('-----------')\n",
    "print(o2.no, o2.stateName)"
   ]
  },
  {
   "cell_type": "code",
   "execution_count": 4,
   "metadata": {},
   "outputs": [
    {
     "name": "stdout",
     "output_type": "stream",
     "text": [
      "-vvvv--\n",
      "我太聪明了...\n"
     ]
    }
   ],
   "source": [
    "class Num():\n",
    "    def __init__(self,n):\n",
    "        self.n = n\n",
    "        \n",
    "    def __ge__(self,value):\n",
    "        if isinstance(value, Num):\n",
    "            return self.n >= value.n\n",
    "        else:\n",
    "            return self.n >= value\n",
    "\n",
    "n1 = Num(10)\n",
    "n2 = Num(30)\n",
    "# 调用n1的 >= 对应的隐式函数 __ge__\n",
    "# 将 n2传入到 __ge__函数的value参数\n",
    "if n1 >= n2:\n",
    "    print('--hahah--')\n",
    "else:\n",
    "    print('-vvvv--')\n",
    "    \n",
    "# 调用n1的 __ge__函数，并将5传给value参数－\n",
    "if n1 >= 5:\n",
    "    print('我太聪明了...')"
   ]
  }
 ],
 "metadata": {
  "kernelspec": {
   "display_name": "Python 3",
   "language": "python",
   "name": "python3"
  },
  "language_info": {
   "codemirror_mode": {
    "name": "ipython",
    "version": 3
   },
   "file_extension": ".py",
   "mimetype": "text/x-python",
   "name": "python",
   "nbconvert_exporter": "python",
   "pygments_lexer": "ipython3",
   "version": "3.6.3"
  }
 },
 "nbformat": 4,
 "nbformat_minor": 2
}
