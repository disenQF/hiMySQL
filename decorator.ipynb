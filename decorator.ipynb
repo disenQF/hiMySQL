{
 "cells": [
  {
   "cell_type": "code",
   "execution_count": 1,
   "metadata": {
    "collapsed": true
   },
   "outputs": [],
   "source": [
    "import time\n",
    "# 声明一个打印日志的装饰函数\n",
    "# fun 参数 表示的被装饰的函数名\n",
    "def log(fun):\n",
    "    def wrapper(*args, **kwargs):\n",
    "        # 自定义日志打印功能\n",
    "        print('调用了日志装饰函数', time.localtime())\n",
    "        return fun(*args, **kwargs) # 执行原函数并返回结果到调用位置\n",
    "    \n",
    "    return wrapper  #返回包装函数\n",
    "        "
   ]
  },
  {
   "cell_type": "code",
   "execution_count": 2,
   "metadata": {
    "collapsed": true
   },
   "outputs": [],
   "source": [
    "@log\n",
    "def save(tableName=None, name=None, age=None):\n",
    "    print('保存到', tableName, '内容为:',name, age)"
   ]
  },
  {
   "cell_type": "code",
   "execution_count": 3,
   "metadata": {},
   "outputs": [
    {
     "name": "stdout",
     "output_type": "stream",
     "text": [
      "调用了日志装饰函数 time.struct_time(tm_year=2018, tm_mon=7, tm_mday=2, tm_hour=11, tm_min=17, tm_sec=55, tm_wday=0, tm_yday=183, tm_isdst=0)\n",
      "保存到 user 内容为: Disen 20\n"
     ]
    }
   ],
   "source": [
    "save('user', name='Disen', age=20)"
   ]
  }
 ],
 "metadata": {
  "kernelspec": {
   "display_name": "Python 3",
   "language": "python",
   "name": "python3"
  },
  "language_info": {
   "codemirror_mode": {
    "name": "ipython",
    "version": 3
   },
   "file_extension": ".py",
   "mimetype": "text/x-python",
   "name": "python",
   "nbconvert_exporter": "python",
   "pygments_lexer": "ipython3",
   "version": "3.6.3"
  }
 },
 "nbformat": 4,
 "nbformat_minor": 2
}
