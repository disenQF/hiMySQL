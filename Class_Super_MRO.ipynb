{
 "cells": [
  {
   "cell_type": "code",
   "execution_count": 1,
   "metadata": {
    "collapsed": true
   },
   "outputs": [],
   "source": [
    "class Order():\n",
    "    def __init__(self, no, price):\n",
    "        self.no = no \n",
    "        self.price = price\n",
    "    def save(self):\n",
    "        print(self.no , '订单已保存')"
   ]
  },
  {
   "cell_type": "code",
   "execution_count": 2,
   "metadata": {},
   "outputs": [
    {
     "name": "stdout",
     "output_type": "stream",
     "text": [
      "1 订单已保存\n"
     ]
    }
   ],
   "source": [
    "order = Order(1,199)\n",
    "order.save()"
   ]
  },
  {
   "cell_type": "code",
   "execution_count": 3,
   "metadata": {},
   "outputs": [
    {
     "data": {
      "text/plain": [
       "4371696720"
      ]
     },
     "execution_count": 3,
     "metadata": {},
     "output_type": "execute_result"
    }
   ],
   "source": [
    "id(order) # 显示引用对象的首地址"
   ]
  },
  {
   "cell_type": "code",
   "execution_count": 4,
   "metadata": {},
   "outputs": [
    {
     "data": {
      "text/plain": [
       "4372986120"
      ]
     },
     "execution_count": 4,
     "metadata": {},
     "output_type": "execute_result"
    }
   ],
   "source": [
    "o2 = Order(3, 209)\n",
    "id(o2)"
   ]
  },
  {
   "cell_type": "code",
   "execution_count": 7,
   "metadata": {},
   "outputs": [
    {
     "name": "stdout",
     "output_type": "stream",
     "text": [
      "4327900304\n",
      "4327900304\n"
     ]
    }
   ],
   "source": [
    "a=100\n",
    "b=100\n",
    "print(id(a))\n",
    "print(id(b))"
   ]
  },
  {
   "cell_type": "code",
   "execution_count": 8,
   "metadata": {},
   "outputs": [
    {
     "name": "stdout",
     "output_type": "stream",
     "text": [
      "4373102736\n",
      "4373102864\n"
     ]
    }
   ],
   "source": [
    "a = 900\n",
    "b = 900\n",
    "print(id(a))\n",
    "print(id(b))"
   ]
  },
  {
   "cell_type": "code",
   "execution_count": 10,
   "metadata": {
    "collapsed": true
   },
   "outputs": [],
   "source": [
    "class Person():\n",
    "    def __init__(self):\n",
    "        print('--Person init--')\n",
    "        \n",
    "class Worker(Person):\n",
    "    def __init__(self):\n",
    "        print('----Worker-init----')\n",
    "        super().__init__()\n",
    "\n",
    "class Manager(Person):\n",
    "    def __init__(self):\n",
    "        print('---Manager init---')\n",
    "        super().__init__()\n",
    "\n",
    "class ProjectLeader(Worker, Manager):\n",
    "    def __init__(self):\n",
    "        print('---ProjectLeader init--')\n",
    "        super().__init__()\n",
    "        \n",
    "class ProjectCTO(ProjectLeader):\n",
    "    def __init__(self):\n",
    "        print('---ProjectCTO- init--')\n",
    "        super().__init__()"
   ]
  },
  {
   "cell_type": "code",
   "execution_count": 12,
   "metadata": {},
   "outputs": [
    {
     "name": "stdout",
     "output_type": "stream",
     "text": [
      "---ProjectCTO- init--\n",
      "---ProjectLeader init--\n",
      "----Worker-init----\n",
      "---Manager init---\n",
      "--Person init--\n",
      "[<class '__main__.ProjectCTO'>, <class '__main__.ProjectLeader'>, <class '__main__.Worker'>, <class '__main__.Manager'>, <class '__main__.Person'>, <class 'object'>]\n",
      "(<class '__main__.ProjectCTO'>, <class '__main__.ProjectLeader'>, <class '__main__.Worker'>, <class '__main__.Manager'>, <class '__main__.Person'>, <class 'object'>)\n"
     ]
    }
   ],
   "source": [
    "cto = ProjectCTO()\n",
    "print(ProjectCTO.mro())\n",
    "print(ProjectCTO.__mro__)"
   ]
  }
 ],
 "metadata": {
  "kernelspec": {
   "display_name": "Python 3",
   "language": "python",
   "name": "python3"
  },
  "language_info": {
   "codemirror_mode": {
    "name": "ipython",
    "version": 3
   },
   "file_extension": ".py",
   "mimetype": "text/x-python",
   "name": "python",
   "nbconvert_exporter": "python",
   "pygments_lexer": "ipython3",
   "version": "3.6.3"
  }
 },
 "nbformat": 4,
 "nbformat_minor": 2
}
