{
 "cells": [
  {
   "cell_type": "code",
   "execution_count": 4,
   "metadata": {
    "collapsed": true
   },
   "outputs": [],
   "source": [
    "class Check():\n",
    "    def __init__(self,func):\n",
    "        print('---创建Check对象---')\n",
    "        self.func = func  # 当使用装饰类时，会创建装饰类对象\n",
    "    \n",
    "    # 创建完Check类对象后，则会直接调用__call__，且将被装饰函数的参数传入到__call__ \n",
    "    def __call__(self,*args, **kwargs):\n",
    "        print('正在检查用户权限')\n",
    "        return self.func(*args,**kwargs)"
   ]
  },
  {
   "cell_type": "code",
   "execution_count": 6,
   "metadata": {},
   "outputs": [
    {
     "name": "stdout",
     "output_type": "stream",
     "text": [
      "---创建Check对象---\n"
     ]
    }
   ],
   "source": [
    "@Check  # 引用的是Check类对象，但是将被包装的函数时传入到__init__;无参\n",
    "def remove(bookId):\n",
    "    print('正在删除:', bookId)\n"
   ]
  },
  {
   "cell_type": "code",
   "execution_count": 5,
   "metadata": {},
   "outputs": [
    {
     "name": "stdout",
     "output_type": "stream",
     "text": [
      "正在检查用户权限\n",
      "正在删除: 101\n",
      "正在检查用户权限\n",
      "正在删除: 102\n"
     ]
    }
   ],
   "source": [
    "remove(101)\n",
    "remove(102)"
   ]
  }
 ],
 "metadata": {
  "kernelspec": {
   "display_name": "Python 3",
   "language": "python",
   "name": "python3"
  },
  "language_info": {
   "codemirror_mode": {
    "name": "ipython",
    "version": 3
   },
   "file_extension": ".py",
   "mimetype": "text/x-python",
   "name": "python",
   "nbconvert_exporter": "python",
   "pygments_lexer": "ipython3",
   "version": "3.6.3"
  }
 },
 "nbformat": 4,
 "nbformat_minor": 2
}
