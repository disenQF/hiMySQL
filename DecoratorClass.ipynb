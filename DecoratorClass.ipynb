{
 "cells": [
  {
   "cell_type": "code",
   "execution_count": 5,
   "metadata": {
    "collapsed": true
   },
   "outputs": [],
   "source": [
    "class Check():\n",
    "    def __init__(self, name):\n",
    "        self.name = name\n",
    "    \n",
    "    # 当前类作为装饰类使用时，必须要声明__call__函数\n",
    "    # 当前被装饰函数调用时,则会调用__call__函数中声明的wrapper包装函数\n",
    "    def __call__(self, func):\n",
    "        print('---call--')\n",
    "        def wrapper(*args, **kwargs):\n",
    "            print(self.name, '检查当前用户是否存在')\n",
    "            return func(*args, **kwargs)\n",
    "        return wrapper"
   ]
  },
  {
   "cell_type": "code",
   "execution_count": 6,
   "metadata": {},
   "outputs": [
    {
     "name": "stdout",
     "output_type": "stream",
     "text": [
      "---call--\n"
     ]
    }
   ],
   "source": [
    "# 创建Check类对象（必须会调用__init__）\n",
    "# 调用Check对象的__call__函数，获取包装函数名\n",
    "@Check('user_check')\n",
    "def remove(userId):\n",
    "    print('正在删除: ', userId)"
   ]
  },
  {
   "cell_type": "code",
   "execution_count": 7,
   "metadata": {},
   "outputs": [
    {
     "name": "stdout",
     "output_type": "stream",
     "text": [
      "user_check 检查当前用户是否存在\n",
      "正在删除:  101\n",
      "user_check 检查当前用户是否存在\n",
      "正在删除:  102\n"
     ]
    }
   ],
   "source": [
    "remove(101)\n",
    "remove(102)"
   ]
  }
 ],
 "metadata": {
  "kernelspec": {
   "display_name": "Python 3",
   "language": "python",
   "name": "python3"
  },
  "language_info": {
   "codemirror_mode": {
    "name": "ipython",
    "version": 3
   },
   "file_extension": ".py",
   "mimetype": "text/x-python",
   "name": "python",
   "nbconvert_exporter": "python",
   "pygments_lexer": "ipython3",
   "version": "3.6.3"
  }
 },
 "nbformat": 4,
 "nbformat_minor": 2
}
